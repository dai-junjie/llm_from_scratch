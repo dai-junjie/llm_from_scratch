{
 "cells": [
  {
   "cell_type": "code",
   "execution_count": 1,
   "metadata": {},
   "outputs": [
    {
     "name": "stderr",
     "output_type": "stream",
     "text": [
      "Number of requested results 4 is greater than number of elements in index 3, updating n_results = 3\n"
     ]
    },
    {
     "name": "stdout",
     "output_type": "stream",
     "text": [
      "根据提供的文档内容，这份周报主要包含以下两部分内容：\n",
      "\n",
      "---\n",
      "\n",
      "### **1. 开放式创新（OIPs）研究进展**\n",
      "- **研究方法**：  \n",
      "  基于无监督学习技术（如NLP和LDA），从公司的OIPs中提取信息，创建初始关键词篮（Keyword Basket），以量化和分析开放式创新实践。\n",
      "- **核心发现**：  \n",
      "  - 公司整体开放水平与财务表现呈正相关。  \n",
      "  - 部分特定OIPs与财务表现呈现**倒U型关系**，部分支持了先前研究中提到的“开放性悖论”（过度开放可能带来负面影响）。  \n",
      "  - 内部R&D与个体OIPs的互补性因具体实践方式而异，且OIPs的影响因行业不同而存在差异。  \n",
      "- **结论**：  \n",
      "  开放式创新对业务的影响复杂，不存在普适的最佳实践，需结合企业自身和行业特点进行调整。\n",
      "\n",
      "- **技术细节**：  \n",
      "  通过**主题建模（Topic Modeling）** 来衡量和分类开放式创新实践，可能是论文研究的核心方法。\n",
      "\n",
      "---\n",
      "\n",
      "### **2. 机器翻译模型调试与优化**\n",
      "- **问题与解决方案**：  \n",
      "  - **网络下载错误**：重新下载tokenizer解决了相关问题。  \n",
      "  - **预测机制改进**：  \n",
      "    - 采用**自回归机制**和**位移操作（Shift Operation）**，在解码器输入（decoder-input）的首个位置添加`bos_token`（开始标记），逐步预测后续词直到`eos_token`（结束标记）。  \n",
      "    - 原先未使用位移机制导致预测逻辑错误，现已修正。  \n",
      "- **模型现状**：  \n",
      "  - 训练epoch较少，模型对语义层面的翻译能力有限，但能理解基础单词对应关系。  \n",
      "  - 预测结果已通过图表展示（如图所示，日期为2025年5月23日）。\n",
      "\n",
      "---\n",
      "\n",
      "### **总结**\n",
      "这份周报同时汇报了两个研究/工作的进展：  \n",
      "1. **学术研究**：利用无监督学习分析开放式创新对公司财务表现的影响，强调其复杂性和行业差异性。  \n",
      "2. **技术实践**：机器翻译模型的调试与优化，解决了预测机制和tokenizer相关问题，但模型仍需更多训练以提升语义理解能力。"
     ]
    }
   ],
   "source": [
    "from langchain.document_loaders import PyPDFLoader\n",
    "from langchain_chroma import Chroma\n",
    "from langchain_core.prompts import PromptTemplate\n",
    "from langchain.text_splitter import RecursiveCharacterTextSplitter\n",
    "from langchain_core.output_parsers import StrOutputParser\n",
    "from langchain_core.runnables import RunnablePassthrough\n",
    "from demo1 import get_embedding,get_model\n",
    "loader = PyPDFLoader(\"./2025.5.23.pdf\")\n",
    "# 创建文档列表\n",
    "document = loader.load_and_split()\n",
    "# 分割文档\n",
    "# text_splitter = RecursiveCharacterTextSplitter(chunk_size=1000, chunk_overlap=0)\n",
    "# document = text_splitter.split_documents(document)\n",
    "\n",
    "# 创建向量数据库\n",
    "vec_store = Chroma.from_documents(\n",
    "    document,\n",
    "    embedding=get_embedding())\n",
    "\n",
    "query = \"这个周报的内容是什么\"\n",
    "# 创建检索器\n",
    "retriever = vec_store.as_retriever()\n",
    "\n",
    "# 构建RAG检索链\n",
    "model = get_model()\n",
    "prompt = PromptTemplate.from_template(\n",
    "    \"Answer the question based only on the following context: {context}\\nQuestion: {question}\"\n",
    ")\n",
    "str_output_parser = StrOutputParser()\n",
    "rag_chain = {\"context\":retriever, \n",
    "             \"question\":RunnablePassthrough()} | prompt | model | str_output_parser\n",
    "\n",
    "for chunk in rag_chain.stream(query):\n",
    "    print(chunk, end=\"\")\n"
   ]
  }
 ],
 "metadata": {
  "kernelspec": {
   "display_name": "langchain-env",
   "language": "python",
   "name": "python3"
  },
  "language_info": {
   "codemirror_mode": {
    "name": "ipython",
    "version": 3
   },
   "file_extension": ".py",
   "mimetype": "text/x-python",
   "name": "python",
   "nbconvert_exporter": "python",
   "pygments_lexer": "ipython3",
   "version": "3.12.9"
  }
 },
 "nbformat": 4,
 "nbformat_minor": 2
}
