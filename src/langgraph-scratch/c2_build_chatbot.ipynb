{
 "cells": [
  {
   "cell_type": "markdown",
   "id": "98b86d0c",
   "metadata": {},
   "source": [
    "## 2. Create a StateGraph\n",
    "\n",
    "Now you can create a basic chatbot using LangGraph. This chatbot will respond directly to user messages.\n",
    "\n",
    "Start by creating a StateGraph. A StateGraph object defines the structure of our chatbot as a \"state machine\". We'll add nodes to represent the llm and functions our chatbot can call and edges to specify how the bot should transition between these functions.\n",
    "\n",
    "API Reference: StateGraph | START | END | add_messages"
   ]
  },
  {
   "cell_type": "code",
   "execution_count": 2,
   "id": "84459653",
   "metadata": {},
   "outputs": [],
   "source": [
    "from typing import Annotated\n",
    "\n",
    "from typing_extensions import TypedDict\n",
    "\n",
    "from langgraph.graph import StateGraph, START, END\n",
    "from langgraph.graph.message import add_messages\n",
    "\n",
    "\n",
    "class State(TypedDict): \n",
    "    # Messages have the type \"list\". The `add_messages` function\n",
    "    # in the annotation defines how this state key should be updated\n",
    "    # (in this case, it appends messages to the list, rather than overwriting them)\n",
    "    messages: Annotated[list, add_messages]\n",
    "\n",
    "\n",
    "graph_builder = StateGraph(State)"
   ]
  },
  {
   "cell_type": "markdown",
   "id": "d46ced31",
   "metadata": {},
   "source": [
    "Our graph can now handle two key tasks:\n",
    "\n",
    "Each node can receive the current State as input and output an update to the state.\n",
    "Updates to messages will be appended to the existing list rather than overwriting it, thanks to the prebuilt add_messages function used with the Annotated syntax.\n",
    "\n",
    "### Concept\n",
    "> When defining a graph, the first step is to define its State. The State includes the graph's schema and reducer functions that handle state updates. In our example, State is a TypedDict with one key: messages. The add_messages reducer function is used to append new messages to the list instead of overwriting it. Keys without a reducer annotation will overwrite previous values. To learn more about state, reducers, and related concepts, see LangGraph reference docs."
   ]
  },
  {
   "cell_type": "code",
   "execution_count": 1,
   "id": "6e8376fd",
   "metadata": {},
   "outputs": [
    {
     "name": "stderr",
     "output_type": "stream",
     "text": [
      "/Users/daijunjie/miniconda3/envs/langchain-env/lib/python3.12/site-packages/requests/__init__.py:86: RequestsDependencyWarning: Unable to find acceptable character detection dependency (chardet or charset_normalizer).\n",
      "  warnings.warn(\n"
     ]
    }
   ],
   "source": [
    "from langchain_openai import ChatOpenAI\n",
    "import os\n",
    "llm = ChatOpenAI(\n",
    "    base_url=os.getenv(\"LLM_BASE_URL\"),\n",
    "    api_key=os.getenv(\"LLM_API_KEY\"),\n",
    "    model='qwen-plus-latest',\n",
    "    streaming=True\n",
    ")"
   ]
  },
  {
   "cell_type": "markdown",
   "id": "e9b48878",
   "metadata": {},
   "source": [
    "## Add a node"
   ]
  },
  {
   "cell_type": "code",
   "execution_count": null,
   "id": "d553874e",
   "metadata": {},
   "outputs": [
    {
     "data": {
      "text/plain": [
       "<langgraph.graph.state.StateGraph at 0x118ce1f70>"
      ]
     },
     "execution_count": 3,
     "metadata": {},
     "output_type": "execute_result"
    }
   ],
   "source": [
    "def chatbot(state: State):\n",
    "    return {\"messages\": [llm.invoke(state[\"messages\"])]}\n",
    "\n",
    "\n",
    "# The first argument is the unique node name\n",
    "# The second argument is the function or object that will be called whenever\n",
    "# the node is used.\n",
    "graph_builder.add_node(\"chatbot\", chatbot)\n"
   ]
  },
  {
   "cell_type": "markdown",
   "id": "526263a7",
   "metadata": {},
   "source": [
    "## 4. Add an entry point"
   ]
  },
  {
   "cell_type": "code",
   "execution_count": 4,
   "id": "fc3f7985",
   "metadata": {},
   "outputs": [
    {
     "data": {
      "text/plain": [
       "<langgraph.graph.state.StateGraph at 0x118ce1f70>"
      ]
     },
     "execution_count": 4,
     "metadata": {},
     "output_type": "execute_result"
    }
   ],
   "source": [
    "# Add an entry point to tell the graph where to start its work each time it is run:\n",
    "graph_builder.add_edge(START, \"chatbot\")"
   ]
  },
  {
   "cell_type": "markdown",
   "id": "9c6a03fd",
   "metadata": {},
   "source": [
    "## 5. Add an exit point"
   ]
  },
  {
   "cell_type": "code",
   "execution_count": 5,
   "id": "f79c8569",
   "metadata": {},
   "outputs": [
    {
     "data": {
      "text/plain": [
       "<langgraph.graph.state.StateGraph at 0x118ce1f70>"
      ]
     },
     "execution_count": 5,
     "metadata": {},
     "output_type": "execute_result"
    }
   ],
   "source": [
    "graph_builder.add_edge(\"chatbot\", END)"
   ]
  },
  {
   "cell_type": "code",
   "execution_count": 6,
   "id": "2b446219",
   "metadata": {},
   "outputs": [],
   "source": [
    "graph = graph_builder.compile()"
   ]
  },
  {
   "cell_type": "code",
   "execution_count": 7,
   "id": "171f59f5",
   "metadata": {},
   "outputs": [
    {
     "data": {
      "image/png": "[encoded data removed]",
      "text/plain": [
       "<IPython.core.display.Image object>"
      ]
     },
     "metadata": {},
     "output_type": "display_data"
    }
   ],
   "source": [
    "from IPython.display import Image, display\n",
    "\n",
    "try:\n",
    "    display(Image(graph.get_graph().draw_mermaid_png()))\n",
    "except Exception:\n",
    "    # This requires some extra dependencies and is optional\n",
    "    pass"
   ]
  },
  {
   "cell_type": "markdown",
   "id": "96973e8d",
   "metadata": {},
   "source": [
    "## Run the chatbot"
   ]
  },
  {
   "cell_type": "code",
   "execution_count": 9,
   "id": "9372c679",
   "metadata": {},
   "outputs": [
    {
     "name": "stdout",
     "output_type": "stream",
     "text": [
      "Assistant: 我们一步一步来分析：9.11 和 9.8 哪个更大？\n",
      "\n",
      "### 第一步：理解小数的比较规则\n",
      "比较两个小数的大小，要从左到右逐位比较，先看整数部分，再看小数部分。\n",
      "\n",
      "### 第二步：比较整数部分\n",
      "- 9.11 的整数部分是 9\n",
      "- 9.8 的整数部分也是 9\n",
      "\n",
      "→ 整数部分相同，无法判断大小，需要比较小数部分。\n",
      "\n",
      "---\n",
      "\n",
      "### 第三步：将小数部分对齐比较\n",
      "为了更清楚地比较，我们可以把两个数写成相同的小数位数（补零）：\n",
      "\n",
      "- 9.11 保持不变\n",
      "- 9.8 可以写成 9.80（因为 9.8 = 9.80）\n",
      "\n",
      "现在比较 9.11 和 9.80\n",
      "\n",
      "---\n",
      "\n",
      "### 第四步：比较小数第一位（十分位）\n",
      "- 9.11 的十分位是 1\n",
      "- 9.80 的十分位是 8\n",
      "\n",
      "→ 1 < 8\n",
      "\n",
      "所以，仅从小数第一位来看，9.11 < 9.80\n",
      "\n",
      "---\n",
      "\n",
      "### 第五步：得出结论\n",
      "虽然 9.11 看起来“位数多”，但实际数值大小取决于每一位的值。\n",
      "\n",
      "因为：\n",
      "- 整数部分相同（都是 9）\n",
      "- 十分位：1 < 8\n",
      "\n",
      "→ 所以 **9.11 < 9.8**\n",
      "\n",
      "---\n",
      "\n",
      "### 最终答案：\n",
      "**9.8 更大** ✅\n",
      "Assistant: 您好，我理解您的疑虑。为了更好地帮助您，能否请您具体说明一下是哪一部分的结果让您感到不确定呢？我会仔细核对相关信息，并为您提供更准确的解释或重新计算。感谢您的反馈！\n",
      "Assistant: 您好，您刚才的问题是：“我刚刚问了哪些问题”。\n",
      "\n",
      "这是您本次对话中提出的第一个问题，因此在此之前您还没有提出其他问题。如果您是在之前的对话中问过问题，但由于开启了新的对话而无法追溯，请注意每次开启新对话时，上下文会重置，我将无法看到之前的内容。\n",
      "\n",
      "如果您有其他想了解的内容，欢迎继续提问！\n",
      "Goodbye!\n"
     ]
    }
   ],
   "source": [
    "def stream_graph_updates(user_input: str):\n",
    "    for event in graph.stream({\"messages\": [{\"role\": \"user\", \"content\": user_input}]}):\n",
    "        for value in event.values():\n",
    "            print(\"Assistant:\", value[\"messages\"][-1].content)\n",
    "\n",
    "\n",
    "while True:\n",
    "    try:\n",
    "        user_input = input(\"User: \")\n",
    "        if user_input.lower() in [\"quit\", \"exit\", \"q\"]:\n",
    "            print(\"Goodbye!\")\n",
    "            break\n",
    "        stream_graph_updates(user_input)\n",
    "    except:\n",
    "        # fallback if input() is not available\n",
    "        user_input = \"What do you know about LangGraph?\"\n",
    "        print(\"User: \" + user_input)\n",
    "        stream_graph_updates(user_input)\n",
    "        break"
   ]
  }
 ],
 "metadata": {
  "kernelspec": {
   "display_name": "langchain-env",
   "language": "python",
   "name": "python3"
  },
  "language_info": {
   "codemirror_mode": {
    "name": "ipython",
    "version": 3
   },
   "file_extension": ".py",
   "mimetype": "text/x-python",
   "name": "python",
   "nbconvert_exporter": "python",
   "pygments_lexer": "ipython3",
   "version": "3.12.9"
  }
 },
 "nbformat": 4,
 "nbformat_minor": 5
}
