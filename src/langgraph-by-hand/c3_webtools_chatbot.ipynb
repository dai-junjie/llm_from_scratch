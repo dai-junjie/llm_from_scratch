{
 "cells": [
  {
   "cell_type": "code",
   "execution_count": 1,
   "id": "ed2f7657",
   "metadata": {},
   "outputs": [
    {
     "name": "stderr",
     "output_type": "stream",
     "text": [
      "/Users/daijunjie/miniconda3/envs/langchain-env/lib/python3.12/site-packages/requests/__init__.py:86: RequestsDependencyWarning: Unable to find acceptable character detection dependency (chardet or charset_normalizer).\n",
      "  warnings.warn(\n"
     ]
    },
    {
     "data": {
      "text/plain": [
       "{'query': 'langgraph中的state是什么',\n",
       " 'follow_up_questions': None,\n",
       " 'answer': None,\n",
       " 'images': [],\n",
       " 'results': [{'url': 'https://zhuanlan.zhihu.com/p/14314257172',\n",
       "   'title': 'LangGraph 中的State 概念（vs Memory） - 知乎专栏',\n",
       "   'content': 'LangGraph 的 state 是 一种信息共享与上下文管理的工具 ，起源于状态机理论，广泛用于对话系统、任务自动化和复杂逻辑处理。 通过 state ，系统能够记忆用户信息、动态调整逻辑，并复用中间结果，提供更加智能和人性化的体验。',\n",
       "   'score': 0.9325087,\n",
       "   'raw_content': None},\n",
       "  {'url': 'https://zhuanlan.zhihu.com/p/720864252',\n",
       "   'title': '初学LangGraph 之节点、边和状态 - 知乎专栏',\n",
       "   'content': '状态（State）：是一个共享的数据结构，用来存放程序当前数据。它可以是任何类型，通常是TypedDict 或Pydantic BaseModel。主要是给节点之间传递数据的作用。每',\n",
       "   'score': 0.8941352,\n",
       "   'raw_content': None}],\n",
       " 'response_time': 0.82}"
      ]
     },
     "execution_count": 1,
     "metadata": {},
     "output_type": "execute_result"
    }
   ],
   "source": [
    "\"\"\"\n",
    "results是一个数组，元素是一个字典，类型是:{\n",
    "    \"url\":str,\n",
    "    \"title\":str,\n",
    "    \"content\":str,\n",
    "    \"score\":float,\n",
    "    \"raw_content\":str\n",
    "}\n",
    "前面三个最重要\n",
    "\"\"\"\n",
    "from langchain_tavily import TavilySearch\n",
    "tool = TavilySearch(max_results=2)\n",
    "tools = [tool]\n",
    "tool.invoke(\"langgraph中的state是什么\")"
   ]
  },
  {
   "cell_type": "markdown",
   "id": "3cbf0aba",
   "metadata": {},
   "source": [
    "## 准备模型"
   ]
  },
  {
   "cell_type": "code",
   "execution_count": 2,
   "id": "c04b903e",
   "metadata": {},
   "outputs": [],
   "source": [
    "from langchain_openai import ChatOpenAI\n",
    "import os\n",
    "llm = ChatOpenAI(\n",
    "    base_url=os.getenv(\"LLM_BASE_URL\"),\n",
    "    api_key=os.getenv(\"LLM_API_KEY\"),\n",
    "    model='qwen-plus-latest',\n",
    "    streaming=True\n",
    ")"
   ]
  },
  {
   "cell_type": "markdown",
   "id": "774b3c46",
   "metadata": {},
   "source": [
    "## 定义graph"
   ]
  },
  {
   "cell_type": "code",
   "execution_count": 7,
   "id": "86f38f1a",
   "metadata": {},
   "outputs": [],
   "source": [
    "from typing import Annotated\n",
    "from typing_extensions import TypedDict\n",
    "from langgraph.graph import StateGraph,START,END\n",
    "from langgraph.graph.message import add_messages\n",
    "from langgraph.prebuilt import ToolNode\n",
    "\n",
    "class State(TypedDict):\n",
    "    messages:Annotated[list,add_messages]\n",
    "    \n",
    "graph_builder = StateGraph(State)\n",
    "\n",
    "# 绑定工具\n",
    "llm_with_tools = llm.bind_tools(tools)\n",
    "# llm_with_tools = llm\n",
    "# 这个chatbot是绑定了搜索工具的llm\n",
    "def chatbot(state:State):\n",
    "    return {\n",
    "        \"messages\":[llm_with_tools.invoke(state[\"messages\"])]\n",
    "    }\n",
    "\n",
    "tool_node = ToolNode(tools)\n",
    "\n",
    "def should_continue(state:State):\n",
    "    # 默认state是正常的字典\n",
    "    messages = state[\"messages\"]\n",
    "    last_message = messages[-1]\n",
    "    \n",
    "    if last_message.tool_calls:\n",
    "        return \"tools\"\n",
    "    return END\n",
    "\n",
    "\n",
    "graph_builder.add_node(\"chatbot\",chatbot)\n",
    "graph_builder.add_node(\"tools\",tool_node)\n",
    "\n",
    "graph_builder.add_conditional_edges(\n",
    "    # 出发点\n",
    "    \"chatbot\",\n",
    "    # 流程条件判断\n",
    "    should_continue,\n",
    "    # 目标节点的路径映射\n",
    "    # path_map: paths to node\n",
    "    {\n",
    "        \"tools\":\"tools\",\n",
    "        END:END\n",
    "    }\n",
    ")\n",
    "\n",
    "graph_builder.add_edge(\"tools\",\"chatbot\")\n",
    "\n",
    "graph_builder.set_entry_point(\"chatbot\")\n",
    "graph_builder.set_finish_point(\"chatbot\")\n",
    "graph = graph_builder.compile(name=\"chatbot agent\")"
   ]
  },
  {
   "cell_type": "code",
   "execution_count": 4,
   "id": "c2746ab9",
   "metadata": {},
   "outputs": [
    {
     "data": {
      "image/png": "[encoded data removed]",
      "text/plain": [
       "<IPython.core.display.Image object>"
      ]
     },
     "metadata": {},
     "output_type": "display_data"
    }
   ],
   "source": [
    "from IPython.display import Image, display\n",
    "\n",
    "try:\n",
    "    display(Image(graph.get_graph().draw_mermaid_png()))\n",
    "except Exception:\n",
    "    # This requires some extra dependencies and is optional\n",
    "    pass"
   ]
  },
  {
   "cell_type": "code",
   "execution_count": 8,
   "id": "6457ff21",
   "metadata": {},
   "outputs": [
    {
     "name": "stdout",
     "output_type": "stream",
     "text": [
      "==================================\u001b[1m Ai Message \u001b[0m==================================\n",
      "Tool Calls:\n",
      "  tavily_search (call_717c45753e7445c386f301)\n",
      " Call ID: call_717c45753e7445c386f301\n",
      "  Args:\n",
      "    query: 三峡大坝位置 最近旅游活动\n",
      "    search_depth: advanced\n",
      "    include_images: False\n",
      "    topic: general\n",
      "=================================\u001b[1m Tool Message \u001b[0m=================================\n",
      "Name: tavily_search\n",
      "\n",
      "{\"query\": \"三峡大坝位置 最近旅游活动\", \"follow_up_questions\": null, \"answer\": null, \"images\": [], \"results\": [{\"url\": \"https://hk.trip.com/moments/poi-three-gorges-dam-tourism-100965/\", \"title\": \"【2025宜昌景點】三峽大壩旅遊區旅遊攻略（於8月更新） - Trip.com\", \"content\": \"三峽工程大酒店限時免費遊，背誦詩詞贏景區直通車票. 6月30日至9月30日，三峽工程大酒店推出「詩意三峽免費遊禮」活動。入住酒店，背誦三峽相關詩詞全文及作者姓名，即可獲得\", \"score\": 0.5999311, \"raw_content\": null}, {\"url\": \"https://zh.wikipedia.org/zh-hans/%E9%95%BF%E6%B1%9F%E4%B8%89%E5%B3%A1%E6%B0%B4%E5%88%A9%E6%9E%A2%E7%BA%BD%E5%B7%A5%E7%A8%8B\", \"title\": \"长江三峡水利枢纽工程 - 维基百科\", \"content\": \"分布在重庆市到湖北省宜昌市的长江干流上，大坝位于长江三峡西陵峡内的宜昌市夷陵区三斗坪，并和其下游38千米的葛洲坝水电站形成梯级调度电站。 它是世界上规模最大的水电站\", \"score\": 0.52042377, \"raw_content\": null}], \"response_time\": 3.66}\n",
      "==================================\u001b[1m Ai Message \u001b[0m==================================\n",
      "\n",
      "三峡大坝位于中国湖北省宜昌市夷陵区三斗坪，地处长江三峡西陵峡内。\n",
      "\n",
      "关于最近的旅游活动，根据Trip.com的信息，在2024年6月30日至9月30日期间，三峡工程大酒店推出了“诗意三峡免费游礼”活动。游客如果入住该酒店，并能背诵与三峡相关的诗词全文及作者姓名，即可获得景区直通车票等优惠。\n",
      "\n",
      "建议计划前往的游客提前确认活动是否仍在进行，并做好相应准备。\n"
     ]
    }
   ],
   "source": [
    "def stream_graph_updates(user_input:str):\n",
    "    for event in graph.stream(\n",
    "        {\n",
    "            \"messages\": [{\"role\": \"user\", \"content\": user_input}],\n",
    "            \"user_email\":\"junjiedai@zju.edu.cn\",\n",
    "        },\n",
    "        # config\n",
    "    ):\n",
    "        for value in event.values():\n",
    "            if value['messages']:\n",
    "                value['messages'][-1].pretty_print()\n",
    "\n",
    "stream_graph_updates(\"你好，三峡大坝在哪里,顺便搜索下最近有什么旅游活动，使用搜索工具\")"
   ]
  }
 ],
 "metadata": {
  "kernelspec": {
   "display_name": "langchain-env",
   "language": "python",
   "name": "python3"
  },
  "language_info": {
   "codemirror_mode": {
    "name": "ipython",
    "version": 3
   },
   "file_extension": ".py",
   "mimetype": "text/x-python",
   "name": "python",
   "nbconvert_exporter": "python",
   "pygments_lexer": "ipython3",
   "version": "3.12.9"
  }
 },
 "nbformat": 4,
 "nbformat_minor": 5
}
